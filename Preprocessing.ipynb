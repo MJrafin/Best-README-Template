{
  "nbformat": 4,
  "nbformat_minor": 0,
  "metadata": {
    "colab": {
      "provenance": [],
      "authorship_tag": "ABX9TyMBJfEzekoiaR+Drog++FvH",
      "include_colab_link": true
    },
    "kernelspec": {
      "name": "python3",
      "display_name": "Python 3"
    },
    "language_info": {
      "name": "python"
    }
  },
  "cells": [
    {
      "cell_type": "markdown",
      "metadata": {
        "id": "view-in-github",
        "colab_type": "text"
      },
      "source": [
        "<a href=\"https://colab.research.google.com/github/MJrafin/Best-README-Template/blob/master/Preprocessing.ipynb\" target=\"_parent\"><img src=\"https://colab.research.google.com/assets/colab-badge.svg\" alt=\"Open In Colab\"/></a>"
      ]
    },
    {
      "cell_type": "code",
      "execution_count": 1,
      "metadata": {
        "id": "zCGiGgplhn09"
      },
      "outputs": [],
      "source": [
        "import pandas as pd"
      ]
    },
    {
      "cell_type": "code",
      "source": [
        "# Load a CSV file into a DataFrame\n",
        "df = pd.read_csv('Car crash_data.csv')\n",
        "\n",
        "# Display the first few rows of the DataFrame\n",
        "print(df.head())"
      ],
      "metadata": {
        "colab": {
          "base_uri": "https://localhost:8080/"
        },
        "id": "dL1QjHihjS4N",
        "outputId": "b66e0b29-da44-4c9c-c6a2-86a34a8ed5ac"
      },
      "execution_count": 2,
      "outputs": [
        {
          "output_type": "stream",
          "name": "stdout",
          "text": [
            "  CrashSeverity  Number_of_vehicles_involved            Simple_complex  \\\n",
            "0   Minor Crash                            1  Multiple Party (Complex)   \n",
            "1   Minor Crash                            2   Multiple Party (Simple)   \n",
            "2   Minor Crash                            2   Multiple Party (Simple)   \n",
            "3   Minor Crash                            1              Single Party   \n",
            "4   Minor Crash                            2   Multiple Party (Simple)   \n",
            "\n",
            "   Crash_year Day_of_the_week Month_of_year Is_weekend Holiday  \\\n",
            "0        2018          Friday        August         No      No   \n",
            "1        2017        Thursday      December         No      No   \n",
            "2        2017       Wednesday         March         No      No   \n",
            "3        2018         Tuesday      December         No      No   \n",
            "4        2018        Thursday      December         No      No   \n",
            "\n",
            "    Road_category School_zone  ... Surface_type Primary_surface_condition  \\\n",
            "0  Arterial urban         Yes  ...       Sealed                       Dry   \n",
            "1  Arterial urban         Yes  ...       Sealed                       Dry   \n",
            "2     Major urban         Yes  ...       Sealed                       Dry   \n",
            "3  Arterial rural          No  ...       Sealed                       Wet   \n",
            "4  Arterial urban         Yes  ...       Sealed                       Wet   \n",
            "\n",
            "  Natural_Light Primary_weather Alcohol_Suspected Drugs_Involved  \\\n",
            "0    Bright sun            Fine  Suspected-Tested  Not suspected   \n",
            "1    Bright sun            Fine     Not Suspected  Not suspected   \n",
            "2      Overcast            Fine  Suspected-Tested  Not suspected   \n",
            "3      Overcast      Light rain  Suspected-Tested  Not suspected   \n",
            "4      Overcast      Light rain  Suspected-Tested  Not suspected   \n",
            "\n",
            "  Licence_status Age_group Road_usage_type  Gender  \n",
            "0        Current     70-74       Car/Wagon  Female  \n",
            "1        Current     70-74       Car/Wagon  Female  \n",
            "2        Current     20-24       Car/Wagon  Female  \n",
            "3        Current     35-39             Van    Male  \n",
            "4        Current     30-34             Van    Male  \n",
            "\n",
            "[5 rows x 27 columns]\n"
          ]
        }
      ]
    },
    {
      "cell_type": "code",
      "source": [
        "# Check for null values in the entire DataFrame\n",
        "null_counts = df.isnull().sum()\n",
        "\n",
        "print(null_counts)"
      ],
      "metadata": {
        "colab": {
          "base_uri": "https://localhost:8080/"
        },
        "id": "7wMt8GSijpjL",
        "outputId": "5c0fa5c4-a318-402d-f2dc-ae9bbc39e34a"
      },
      "execution_count": 3,
      "outputs": [
        {
          "output_type": "stream",
          "name": "stdout",
          "text": [
            "CrashSeverity                  0\n",
            "Number_of_vehicles_involved    0\n",
            "Simple_complex                 0\n",
            "Crash_year                     0\n",
            "Day_of_the_week                0\n",
            "Month_of_year                  0\n",
            "Is_weekend                     0\n",
            "Holiday                        0\n",
            "Road_category                  0\n",
            "School_zone                    0\n",
            "Intersection                   0\n",
            "Intersection_midblock          0\n",
            "State_highway                  0\n",
            "Urban_Open_zone                0\n",
            "Junction_type                  0\n",
            "Road_curvature                 0\n",
            "Gradient                       0\n",
            "Surface_type                   0\n",
            "Primary_surface_condition      0\n",
            "Natural_Light                  0\n",
            "Primary_weather                0\n",
            "Alcohol_Suspected              0\n",
            "Drugs_Involved                 0\n",
            "Licence_status                 0\n",
            "Age_group                      0\n",
            "Road_usage_type                0\n",
            "Gender                         0\n",
            "dtype: int64\n"
          ]
        }
      ]
    },
    {
      "cell_type": "code",
      "source": [
        "# Check for NaN values using isna()\n",
        "nan_counts = df.isna().sum()\n",
        "print(\"NaN values in each column (using isna()):\\n\", nan_counts)"
      ],
      "metadata": {
        "colab": {
          "base_uri": "https://localhost:8080/"
        },
        "id": "l55nIN3OjtOh",
        "outputId": "7102557c-3462-4fef-a28b-da4587245a26"
      },
      "execution_count": 4,
      "outputs": [
        {
          "output_type": "stream",
          "name": "stdout",
          "text": [
            "NaN values in each column (using isna()):\n",
            " CrashSeverity                  0\n",
            "Number_of_vehicles_involved    0\n",
            "Simple_complex                 0\n",
            "Crash_year                     0\n",
            "Day_of_the_week                0\n",
            "Month_of_year                  0\n",
            "Is_weekend                     0\n",
            "Holiday                        0\n",
            "Road_category                  0\n",
            "School_zone                    0\n",
            "Intersection                   0\n",
            "Intersection_midblock          0\n",
            "State_highway                  0\n",
            "Urban_Open_zone                0\n",
            "Junction_type                  0\n",
            "Road_curvature                 0\n",
            "Gradient                       0\n",
            "Surface_type                   0\n",
            "Primary_surface_condition      0\n",
            "Natural_Light                  0\n",
            "Primary_weather                0\n",
            "Alcohol_Suspected              0\n",
            "Drugs_Involved                 0\n",
            "Licence_status                 0\n",
            "Age_group                      0\n",
            "Road_usage_type                0\n",
            "Gender                         0\n",
            "dtype: int64\n"
          ]
        }
      ]
    },
    {
      "cell_type": "code",
      "source": [
        "# Get unique values for each column\n",
        "for column in df.columns:\n",
        "    unique_values = df[column].unique()\n",
        "    print(f\"Unique values in column '{column}': {unique_values}\")"
      ],
      "metadata": {
        "colab": {
          "base_uri": "https://localhost:8080/"
        },
        "id": "Ns3r60hskfGp",
        "outputId": "cde7e857-820b-4ed1-8a73-70473a3454c3"
      },
      "execution_count": 5,
      "outputs": [
        {
          "output_type": "stream",
          "name": "stdout",
          "text": [
            "Unique values in column 'CrashSeverity': ['Minor Crash' 'Serious Crash' 'Fatal Crash' 'Non-Injury Crash']\n",
            "Unique values in column 'Number_of_vehicles_involved': [ 1  2  3  4  7  5  6  9  8 11]\n",
            "Unique values in column 'Simple_complex': ['Multiple Party (Complex)' 'Multiple Party (Simple)' 'Single Party']\n",
            "Unique values in column 'Crash_year': [2018 2017 2016 2019 2020]\n",
            "Unique values in column 'Day_of_the_week': ['Friday' 'Thursday' 'Wednesday' 'Tuesday' 'Sunday' 'Monday' 'Saturday']\n",
            "Unique values in column 'Month_of_year': ['August' 'December' 'March' 'May' 'June' 'November' 'April' 'February'\n",
            " 'September' 'July' 'October' 'January']\n",
            "Unique values in column 'Is_weekend': ['No' 'Yes']\n",
            "Unique values in column 'Holiday': ['No' 'Yes']\n",
            "Unique values in column 'Road_category': ['Arterial urban' 'Major urban' 'Arterial rural' 'Minor rural'\n",
            " 'Medium urban' 'Medium rural' 'Minor urban' 'Major rural' 'Motorway'\n",
            " 'Foot path' 'Access urban' 'Vehicle track' 'Access rural' 'Foot track']\n",
            "Unique values in column 'School_zone': ['Yes' 'No']\n",
            "Unique values in column 'Intersection': ['Yes' 'No']\n",
            "Unique values in column 'Intersection_midblock': ['Intersection' 'Midblock']\n",
            "Unique values in column 'State_highway': ['No' 'Yes']\n",
            "Unique values in column 'Urban_Open_zone': ['Urban' 'Open']\n",
            "Unique values in column 'Junction_type': ['Crossroads' 'T Junction' 'Default' 'Driveway' 'Roundabout' 'End of road'\n",
            " 'Multileg' 'Y Junction']\n",
            "Unique values in column 'Road_curvature': ['Straight' 'Curved']\n",
            "Unique values in column 'Gradient': ['Flat' 'Hill Road']\n",
            "Unique values in column 'Surface_type': ['Sealed' 'Unsealed' 'End of seal']\n",
            "Unique values in column 'Primary_surface_condition': ['Dry' 'Wet' 'Ice or Snow']\n",
            "Unique values in column 'Natural_Light': ['Bright sun' 'Overcast' 'Dark' 'Twilight']\n",
            "Unique values in column 'Primary_weather': ['Fine' 'Light rain' 'Heavy rain' 'Mist or Fog' 'Snow' 'Hail or Sleet']\n",
            "Unique values in column 'Alcohol_Suspected': ['Suspected-Tested' 'Not Suspected' 'Suspected - Not Tested']\n",
            "Unique values in column 'Drugs_Involved': ['Not suspected' 'Suspected - Tested' 'Suspected - Not Tested']\n",
            "Unique values in column 'Licence_status': ['Current' 'Cancelled' 'Disqualified' 'Suspended' 'Zero alcohol status'\n",
            " 'Expired' 'Limited' 'Forbidden' 'Re-qualify']\n",
            "Unique values in column 'Age_group': ['70-74' '20-24' '35-39' '30-34' '55-59' '65-69' '50-54' '40-44' '25-29'\n",
            " '60-64' '80-84' '45-49' '15-19' '75-79' '85-89' '90-94' '95-99' '0-4']\n",
            "Unique values in column 'Road_usage_type': ['Car/Wagon' 'Van' 'SUV' 'Truck' 'Bus' 'Motorcycle' 'Moped' 'Other' 'Ute'\n",
            " 'Truck HPMV' 'Unknown' '50 Max']\n",
            "Unique values in column 'Gender': ['Female' 'Male']\n"
          ]
        }
      ]
    },
    {
      "cell_type": "code",
      "source": [
        "# Filter the DataFrame for rows where Age_group is '0-4'\n",
        "filtered_df = df[df['Age_group'] == '0-4']\n",
        "\n",
        "# Print the filtered DataFrame\n",
        "print(filtered_df)"
      ],
      "metadata": {
        "colab": {
          "base_uri": "https://localhost:8080/"
        },
        "id": "j3X2mymembWC",
        "outputId": "feb505c1-9507-492a-f791-2c00f90a233e"
      },
      "execution_count": 6,
      "outputs": [
        {
          "output_type": "stream",
          "name": "stdout",
          "text": [
            "          CrashSeverity  Number_of_vehicles_involved           Simple_complex  \\\n",
            "5905        Minor Crash                            1             Single Party   \n",
            "11499  Non-Injury Crash                            2  Multiple Party (Simple)   \n",
            "17697     Serious Crash                            1             Single Party   \n",
            "22032  Non-Injury Crash                            1             Single Party   \n",
            "32654  Non-Injury Crash                            2  Multiple Party (Simple)   \n",
            "33021  Non-Injury Crash                            2  Multiple Party (Simple)   \n",
            "35067     Serious Crash                            3  Multiple Party (Simple)   \n",
            "52159  Non-Injury Crash                            2  Multiple Party (Simple)   \n",
            "52745  Non-Injury Crash                            2  Multiple Party (Simple)   \n",
            "53364  Non-Injury Crash                            1             Single Party   \n",
            "57052  Non-Injury Crash                            1             Single Party   \n",
            "57184  Non-Injury Crash                            2  Multiple Party (Simple)   \n",
            "58229  Non-Injury Crash                            1             Single Party   \n",
            "58284       Minor Crash                            2  Multiple Party (Simple)   \n",
            "\n",
            "       Crash_year Day_of_the_week Month_of_year Is_weekend Holiday  \\\n",
            "5905         2020        Thursday       January         No      No   \n",
            "11499        2019       Wednesday     September         No      No   \n",
            "17697        2019          Friday      November         No      No   \n",
            "22032        2019       Wednesday          July         No      No   \n",
            "32654        2019          Sunday      December        Yes      No   \n",
            "33021        2019          Sunday      December        Yes     Yes   \n",
            "35067        2020        Saturday      February        Yes      No   \n",
            "52159        2018          Friday      November         No      No   \n",
            "52745        2018         Tuesday      December         No      No   \n",
            "53364        2018        Saturday      November        Yes      No   \n",
            "57052        2019        Thursday         March         No      No   \n",
            "57184        2019          Friday         March        Yes      No   \n",
            "58229        2019       Wednesday         April         No      No   \n",
            "58284        2019          Sunday        August        Yes      No   \n",
            "\n",
            "        Road_category School_zone  ... Surface_type Primary_surface_condition  \\\n",
            "5905     Medium rural         Yes  ...       Sealed                       Dry   \n",
            "11499     Minor rural         Yes  ...     Unsealed                       Dry   \n",
            "17697     Major rural         Yes  ...       Sealed                       Wet   \n",
            "22032     Minor urban         Yes  ...       Sealed                       Dry   \n",
            "32654     Major urban         Yes  ...       Sealed                       Dry   \n",
            "33021     Minor urban         Yes  ...       Sealed                       Dry   \n",
            "35067     Major rural          No  ...       Sealed                       Dry   \n",
            "52159  Arterial urban         Yes  ...       Sealed                       Wet   \n",
            "52745        Motorway         Yes  ...       Sealed                       Dry   \n",
            "53364     Major rural          No  ...       Sealed                       Dry   \n",
            "57052     Major rural         Yes  ...     Unsealed                       Dry   \n",
            "57184  Arterial urban         Yes  ...       Sealed                       Dry   \n",
            "58229     Major rural         Yes  ...       Sealed                       Wet   \n",
            "58284    Medium urban         Yes  ...       Sealed                       Dry   \n",
            "\n",
            "      Natural_Light Primary_weather       Alcohol_Suspected Drugs_Involved  \\\n",
            "5905     Bright sun            Fine        Suspected-Tested  Not suspected   \n",
            "11499    Bright sun            Fine           Not Suspected  Not suspected   \n",
            "17697      Overcast      Light rain        Suspected-Tested  Not suspected   \n",
            "22032      Overcast            Fine        Suspected-Tested  Not suspected   \n",
            "32654    Bright sun            Fine        Suspected-Tested  Not suspected   \n",
            "33021    Bright sun            Fine           Not Suspected  Not suspected   \n",
            "35067    Bright sun            Fine           Not Suspected  Not suspected   \n",
            "52159          Dark      Light rain        Suspected-Tested  Not suspected   \n",
            "52745      Overcast            Fine        Suspected-Tested  Not suspected   \n",
            "53364      Overcast            Fine  Suspected - Not Tested  Not suspected   \n",
            "57052          Dark            Fine        Suspected-Tested  Not suspected   \n",
            "57184          Dark            Fine        Suspected-Tested  Not suspected   \n",
            "58229      Overcast            Fine           Not Suspected  Not suspected   \n",
            "58284    Bright sun            Fine        Suspected-Tested  Not suspected   \n",
            "\n",
            "      Licence_status Age_group Road_usage_type  Gender  \n",
            "5905         Current       0-4      Motorcycle    Male  \n",
            "11499        Current       0-4           Truck    Male  \n",
            "17697        Current       0-4             SUV  Female  \n",
            "22032        Current       0-4       Car/Wagon    Male  \n",
            "32654        Current       0-4             Bus    Male  \n",
            "33021        Current       0-4             Van    Male  \n",
            "35067        Current       0-4      Motorcycle    Male  \n",
            "52159        Current       0-4       Car/Wagon  Female  \n",
            "52745        Current       0-4       Car/Wagon  Female  \n",
            "53364        Current       0-4       Car/Wagon    Male  \n",
            "57052        Current       0-4       Car/Wagon  Female  \n",
            "57184        Current       0-4       Car/Wagon    Male  \n",
            "58229        Current       0-4       Car/Wagon  Female  \n",
            "58284        Current       0-4       Car/Wagon    Male  \n",
            "\n",
            "[14 rows x 27 columns]\n"
          ]
        }
      ]
    },
    {
      "cell_type": "code",
      "source": [
        "# Get the indices of the rows to drop\n",
        "index_to_drop = df[df['Age_group'] == '0-4'].index\n",
        "\n",
        "# Drop the rows by index\n",
        "df_filtered = df.drop(index_to_drop)\n",
        "\n",
        "# Print the resulting DataFrame\n",
        "print(df_filtered)"
      ],
      "metadata": {
        "colab": {
          "base_uri": "https://localhost:8080/"
        },
        "id": "cfAcE_8Nm7gL",
        "outputId": "feb2a2db-2fdf-4779-ccbb-c4c2042402d5"
      },
      "execution_count": 7,
      "outputs": [
        {
          "output_type": "stream",
          "name": "stdout",
          "text": [
            "       CrashSeverity  Number_of_vehicles_involved            Simple_complex  \\\n",
            "0        Minor Crash                            1  Multiple Party (Complex)   \n",
            "1        Minor Crash                            2   Multiple Party (Simple)   \n",
            "2        Minor Crash                            2   Multiple Party (Simple)   \n",
            "3        Minor Crash                            1              Single Party   \n",
            "4        Minor Crash                            2   Multiple Party (Simple)   \n",
            "...              ...                          ...                       ...   \n",
            "67966    Minor Crash                            1              Single Party   \n",
            "67967    Minor Crash                            1              Single Party   \n",
            "67968    Minor Crash                            2  Multiple Party (Complex)   \n",
            "67969  Serious Crash                            1              Single Party   \n",
            "67970    Minor Crash                            2   Multiple Party (Simple)   \n",
            "\n",
            "       Crash_year Day_of_the_week Month_of_year Is_weekend Holiday  \\\n",
            "0            2018          Friday        August         No      No   \n",
            "1            2017        Thursday      December         No      No   \n",
            "2            2017       Wednesday         March         No      No   \n",
            "3            2018         Tuesday      December         No      No   \n",
            "4            2018        Thursday      December         No      No   \n",
            "...           ...             ...           ...        ...     ...   \n",
            "67966        2019          Monday      February         No      No   \n",
            "67967        2019          Monday      February         No      No   \n",
            "67968        2019          Monday      February         No      No   \n",
            "67969        2017        Thursday          July         No      No   \n",
            "67970        2017          Monday          June         No      No   \n",
            "\n",
            "        Road_category School_zone  ... Surface_type Primary_surface_condition  \\\n",
            "0      Arterial urban         Yes  ...       Sealed                       Dry   \n",
            "1      Arterial urban         Yes  ...       Sealed                       Dry   \n",
            "2         Major urban         Yes  ...       Sealed                       Dry   \n",
            "3      Arterial rural          No  ...       Sealed                       Wet   \n",
            "4      Arterial urban         Yes  ...       Sealed                       Wet   \n",
            "...               ...         ...  ...          ...                       ...   \n",
            "67966    Medium rural         Yes  ...       Sealed                       Dry   \n",
            "67967  Arterial urban         Yes  ...       Sealed                       Dry   \n",
            "67968  Arterial urban         Yes  ...       Sealed                       Dry   \n",
            "67969     Major rural         Yes  ...       Sealed                       Wet   \n",
            "67970     Major urban         Yes  ...       Sealed                       Dry   \n",
            "\n",
            "      Natural_Light Primary_weather Alcohol_Suspected Drugs_Involved  \\\n",
            "0        Bright sun            Fine  Suspected-Tested  Not suspected   \n",
            "1        Bright sun            Fine     Not Suspected  Not suspected   \n",
            "2          Overcast            Fine  Suspected-Tested  Not suspected   \n",
            "3          Overcast      Light rain  Suspected-Tested  Not suspected   \n",
            "4          Overcast      Light rain  Suspected-Tested  Not suspected   \n",
            "...             ...             ...               ...            ...   \n",
            "67966    Bright sun            Fine     Not Suspected  Not suspected   \n",
            "67967    Bright sun            Fine  Suspected-Tested  Not suspected   \n",
            "67968    Bright sun            Fine     Not Suspected  Not suspected   \n",
            "67969          Dark      Light rain     Not Suspected  Not suspected   \n",
            "67970      Overcast            Fine  Suspected-Tested  Not suspected   \n",
            "\n",
            "      Licence_status Age_group Road_usage_type  Gender  \n",
            "0            Current     70-74       Car/Wagon  Female  \n",
            "1            Current     70-74       Car/Wagon  Female  \n",
            "2            Current     20-24       Car/Wagon  Female  \n",
            "3            Current     35-39             Van    Male  \n",
            "4            Current     30-34             Van    Male  \n",
            "...              ...       ...             ...     ...  \n",
            "67966        Current     45-49      Motorcycle    Male  \n",
            "67967        Current     60-64             Bus    Male  \n",
            "67968        Current     45-49             SUV  Female  \n",
            "67969        Current     15-19       Car/Wagon  Female  \n",
            "67970        Current     40-44       Car/Wagon    Male  \n",
            "\n",
            "[67957 rows x 27 columns]\n"
          ]
        }
      ]
    },
    {
      "cell_type": "code",
      "source": [
        "# Get unique values for the Age_group column\n",
        "unique_age_groups = df_filtered['Age_group'].unique()\n",
        "\n",
        "# Print the unique values\n",
        "print(f\"Unique values in 'Age_group' column: {unique_age_groups}\")"
      ],
      "metadata": {
        "colab": {
          "base_uri": "https://localhost:8080/"
        },
        "id": "D9V_3XiUnitr",
        "outputId": "e74b7a03-2a8a-40b5-e2a5-ecb518ebd57c"
      },
      "execution_count": 9,
      "outputs": [
        {
          "output_type": "stream",
          "name": "stdout",
          "text": [
            "Unique values in 'Age_group' column: ['70-74' '20-24' '35-39' '30-34' '55-59' '65-69' '50-54' '40-44' '25-29'\n",
            " '60-64' '80-84' '45-49' '15-19' '75-79' '85-89' '90-94' '95-99']\n"
          ]
        }
      ]
    },
    {
      "cell_type": "code",
      "source": [
        "# Save the modified DataFrame to a CSV file\n",
        "df_filtered.to_csv('modified_dataframe.csv', index=False)\n",
        "\n",
        "# Download the CSV file (for Google Colab)\n",
        "from google.colab import files\n",
        "files.download('modified_dataframe.csv')"
      ],
      "metadata": {
        "colab": {
          "base_uri": "https://localhost:8080/",
          "height": 17
        },
        "id": "ZnkhTgXtoMVp",
        "outputId": "d3971160-dcd7-4f21-ae7a-8847aded64d0"
      },
      "execution_count": 10,
      "outputs": [
        {
          "output_type": "display_data",
          "data": {
            "text/plain": [
              "<IPython.core.display.Javascript object>"
            ],
            "application/javascript": [
              "\n",
              "    async function download(id, filename, size) {\n",
              "      if (!google.colab.kernel.accessAllowed) {\n",
              "        return;\n",
              "      }\n",
              "      const div = document.createElement('div');\n",
              "      const label = document.createElement('label');\n",
              "      label.textContent = `Downloading \"${filename}\": `;\n",
              "      div.appendChild(label);\n",
              "      const progress = document.createElement('progress');\n",
              "      progress.max = size;\n",
              "      div.appendChild(progress);\n",
              "      document.body.appendChild(div);\n",
              "\n",
              "      const buffers = [];\n",
              "      let downloaded = 0;\n",
              "\n",
              "      const channel = await google.colab.kernel.comms.open(id);\n",
              "      // Send a message to notify the kernel that we're ready.\n",
              "      channel.send({})\n",
              "\n",
              "      for await (const message of channel.messages) {\n",
              "        // Send a message to notify the kernel that we're ready.\n",
              "        channel.send({})\n",
              "        if (message.buffers) {\n",
              "          for (const buffer of message.buffers) {\n",
              "            buffers.push(buffer);\n",
              "            downloaded += buffer.byteLength;\n",
              "            progress.value = downloaded;\n",
              "          }\n",
              "        }\n",
              "      }\n",
              "      const blob = new Blob(buffers, {type: 'application/binary'});\n",
              "      const a = document.createElement('a');\n",
              "      a.href = window.URL.createObjectURL(blob);\n",
              "      a.download = filename;\n",
              "      div.appendChild(a);\n",
              "      a.click();\n",
              "      div.remove();\n",
              "    }\n",
              "  "
            ]
          },
          "metadata": {}
        },
        {
          "output_type": "display_data",
          "data": {
            "text/plain": [
              "<IPython.core.display.Javascript object>"
            ],
            "application/javascript": [
              "download(\"download_d0eb08cb-edb0-45b5-a140-fcf20758da3b\", \"modified_dataframe.csv\", 14419831)"
            ]
          },
          "metadata": {}
        }
      ]
    }
  ]
}